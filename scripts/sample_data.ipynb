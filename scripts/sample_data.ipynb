{
 "cells": [
  {
   "cell_type": "code",
   "execution_count": null,
   "metadata": {},
   "outputs": [],
   "source": [
    "import numpy as np\n",
    "from sklearn.preprocessing import StandardScaler\n",
    "import json\n",
    "\n",
    "with open(\"./sc2-04.json\", \"r\", encoding=\"utf-8\") as f:\n",
    "    data = json.load(f)\n",
    "\n",
    "# 提取所有样本的 tags 向量\n",
    "tags_vectors = []\n",
    "for entry in data:\n",
    "    tags = entry[\"tags\"]\n",
    "    # 提取数值特征（假设所有 tags 都是数值型）\n",
    "    features = [\n",
    "        tags[\"time\"],\n",
    "        tags[\"minerals\"],\n",
    "        tags[\"vespene\"],\n",
    "        tags[\"supply_army\"],\n",
    "        tags[\"supply_workers\"],\n",
    "        tags[\"n_structures\"],\n",
    "        tags[\"n_abilities\"]\n",
    "    ]\n",
    "    tags_vectors.append(features)\n",
    "\n",
    "# 标准化处理\n",
    "scaler = StandardScaler()\n",
    "tags_vectors = scaler.fit_transform(tags_vectors)"
   ]
  },
  {
   "cell_type": "code",
   "execution_count": null,
   "metadata": {},
   "outputs": [],
   "source": [
    "from sklearn.cluster import DBSCAN\n",
    "\n",
    "# 设置 DBSCAN 参数（eps 和 min_samples 需根据数据调整）\n",
    "dbscan = DBSCAN(eps=0.5, min_samples=5)\n",
    "labels = dbscan.fit_predict(tags_vectors)\n",
    "\n",
    "# 按簇分组并抽样\n",
    "sampled_indices = []\n",
    "for label in np.unique(labels):\n",
    "    if label == -1:  # 噪声点直接保留\n",
    "        noise_indices = np.where(labels == label)[0]\n",
    "        sampled_indices.extend(noise_indices)\n",
    "    else:\n",
    "        cluster_indices = np.where(labels == label)[0]\n",
    "        # 高密度簇保留一定比例\n",
    "        if len(cluster_indices) > 100:\n",
    "            selected = np.random.choice(cluster_indices, 100, replace=False)\n",
    "        else:\n",
    "            selected = cluster_indices\n",
    "        sampled_indices.extend(selected)\n",
    "\n",
    "# 保留结果\n",
    "filtered_data = [data[i] for i in sampled_indices]\n",
    "print(f\"Original data size: {len(data)}\")\n",
    "print(f\"Filtered data size: {len(filtered_data)}\")"
   ]
  },
  {
   "cell_type": "code",
   "execution_count": null,
   "metadata": {},
   "outputs": [],
   "source": [
    "# 保存去重后的数据\n",
    "with open(\"./sc2-04-deduplicated.json\", \"w\", encoding=\"utf-8\") as f:\n",
    "    json.dump(filtered_data, f, ensure_ascii=False, indent=4)"
   ]
  }
 ],
 "metadata": {
  "kernelspec": {
   "display_name": "venv",
   "language": "python",
   "name": "python3"
  },
  "language_info": {
   "codemirror_mode": {
    "name": "ipython",
    "version": 3
   },
   "file_extension": ".py",
   "mimetype": "text/x-python",
   "name": "python",
   "nbconvert_exporter": "python",
   "pygments_lexer": "ipython3",
   "version": "3.9.17"
  }
 },
 "nbformat": 4,
 "nbformat_minor": 2
}
