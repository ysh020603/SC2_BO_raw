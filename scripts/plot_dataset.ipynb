{
 "cells": [
  {
   "cell_type": "code",
   "execution_count": null,
   "metadata": {},
   "outputs": [],
   "source": [
    "import matplotlib.pyplot as plt\n",
    "import json\n",
    "\n",
    "# 假设data是已加载的列表数据\n",
    "# 请确保已正确加载data变量\n",
    "dataset_name = \"./sc2-04-deduplicated.json\"\n",
    "with open(dataset_name, \"r\", encoding=\"utf-8\") as f:\n",
    "    data = json.load(f)\n",
    "\n",
    "# 提取需要的各个变量数据\n",
    "n_conversations = [len(d['conversations']) for d in data]\n",
    "time = [d['tags']['time'] for d in data]\n",
    "minerals = [d['tags']['minerals'] for d in data]\n",
    "vespene = [d['tags']['vespene'] for d in data]\n",
    "supply_army = [d['tags']['supply_army'] for d in data]\n",
    "supply_workers = [d['tags']['supply_workers'] for d in data]\n",
    "n_structures = [d['tags']['n_structures'] for d in data]\n",
    "n_abilities = [d['tags']['n_abilities'] for d in data]\n",
    "\n",
    "# 创建画布和子图布局（2行4列）\n",
    "fig, axes = plt.subplots(nrows=2, ncols=4, figsize=(20, 10))\n",
    "axes = axes.flatten()  # 将二维数组转为一维数组方便遍历\n",
    "\n",
    "# 定义所有变量及其数据\n",
    "variables = [\n",
    "    (\"n_conversations\", n_conversations),\n",
    "    (\"time\", time),\n",
    "    (\"minerals\", minerals),\n",
    "    (\"vespene\", vespene),\n",
    "    (\"supply_army\", supply_army),\n",
    "    (\"supply_workers\", supply_workers),\n",
    "    (\"n_structures\", n_structures),\n",
    "    (\"n_abilities\", n_abilities)\n",
    "]\n",
    "\n",
    "# 遍历每个变量绘制分布图\n",
    "for i, (name, data) in enumerate(variables):\n",
    "    # 绘制直方图\n",
    "    axes[i].hist(data, bins='auto', edgecolor='black', alpha=0.7)\n",
    "    \n",
    "    # 设置标题和坐标轴标签\n",
    "    axes[i].set_title(f'Distribution of {name}')\n",
    "    axes[i].set_xlabel('Value')\n",
    "    axes[i].set_ylabel('Frequency')\n",
    "    \n",
    "    # 添加网格线\n",
    "    axes[i].grid(axis='y', alpha=0.5)\n",
    "\n",
    "# 调整布局防止重叠\n",
    "plt.tight_layout()\n",
    "\n",
    "# 保存图片（DPI=300）\n",
    "plt.savefig(f'distribution_plots-{dataset_name}.png', dpi=300, bbox_inches='tight')\n",
    "plt.close()"
   ]
  }
 ],
 "metadata": {
  "kernelspec": {
   "display_name": "venv",
   "language": "python",
   "name": "python3"
  },
  "language_info": {
   "codemirror_mode": {
    "name": "ipython",
    "version": 3
   },
   "file_extension": ".py",
   "mimetype": "text/x-python",
   "name": "python",
   "nbconvert_exporter": "python",
   "pygments_lexer": "ipython3",
   "version": "3.9.17"
  }
 },
 "nbformat": 4,
 "nbformat_minor": 2
}
